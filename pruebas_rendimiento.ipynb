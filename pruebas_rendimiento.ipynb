{
 "cells": [
  {
   "cell_type": "markdown",
   "metadata": {},
   "source": []
  },
  {
   "cell_type": "markdown",
   "source": [
    "# Librerias"
   ],
   "metadata": {
    "collapsed": false
   }
  },
  {
   "cell_type": "code",
   "execution_count": 69,
   "outputs": [],
   "source": [
    "import numpy as np\n",
    "from torchvision.datasets import MNIST\n",
    "from descenso_gradiente import descenso_gradiente\n",
    "from time import perf_counter_ns\n",
    "import pandas as pd"
   ],
   "metadata": {
    "collapsed": false,
    "ExecuteTime": {
     "end_time": "2024-01-15T19:51:30.915767Z",
     "start_time": "2024-01-15T19:51:30.902061300Z"
    }
   }
  },
  {
   "cell_type": "markdown",
   "source": [
    "# Obteniendo el dataset"
   ],
   "metadata": {
    "collapsed": false
   }
  },
  {
   "cell_type": "code",
   "outputs": [],
   "source": [
    "df_train: list = list(zip(*MNIST(root=\"\",\n",
    "                                 train=True,\n",
    "                                 download=True,\n",
    "                                 transform=lambda x: np.asarray(x, dtype=np.float32))))\n",
    "\n",
    "df_test: list = list(zip(*MNIST(root=\"\",\n",
    "                                train=False,\n",
    "                                download=True,\n",
    "                                transform=lambda x: np.asarray(x, dtype=np.float32))))\n"
   ],
   "metadata": {
    "collapsed": false,
    "ExecuteTime": {
     "end_time": "2024-01-15T18:36:10.560807700Z",
     "start_time": "2024-01-15T18:36:00.534405800Z"
    }
   },
   "execution_count": 25
  },
  {
   "cell_type": "code",
   "outputs": [],
   "source": [
    "# Separamos las imagenes (x) de los labels (y)\n",
    "df_trainX: np.ndarray = np.asarray(df_train[0])\n",
    "df_trainY: np.ndarray = np.asarray(df_train[1])\n",
    "\n",
    "df_testX: np.ndarray = np.asarray(df_test[0])\n",
    "df_testY: np.ndarray = np.asarray(df_test[1])"
   ],
   "metadata": {
    "collapsed": false,
    "ExecuteTime": {
     "end_time": "2024-01-15T18:36:10.817024100Z",
     "start_time": "2024-01-15T18:36:10.566807100Z"
    }
   },
   "execution_count": 26
  },
  {
   "cell_type": "markdown",
   "source": [
    "# Función de Entrenamiento"
   ],
   "metadata": {
    "collapsed": false
   }
  },
  {
   "cell_type": "code",
   "outputs": [],
   "source": [
    "function_train: dict[str,callable] = {\"step\": descenso_gradiente}"
   ],
   "metadata": {
    "collapsed": false,
    "ExecuteTime": {
     "end_time": "2024-01-15T18:15:03.166788100Z",
     "start_time": "2024-01-15T18:15:03.156112300Z"
    }
   },
   "execution_count": 4
  },
  {
   "cell_type": "code",
   "outputs": [],
   "source": [
    "def funcion_objetivo():\n",
    "    pass"
   ],
   "metadata": {
    "collapsed": false,
    "ExecuteTime": {
     "end_time": "2024-01-15T18:15:03.207698600Z",
     "start_time": "2024-01-15T18:15:03.179796400Z"
    }
   },
   "execution_count": 6
  },
  {
   "cell_type": "markdown",
   "source": [
    "# Main"
   ],
   "metadata": {
    "collapsed": false
   }
  },
  {
   "cell_type": "code",
   "outputs": [],
   "source": [
    "name_df_main = \"DF_ALGORITHMS.csv\"\n",
    "name_df_comb = \"DF_DATA_COMBINATION.csv\"\n",
    "name_df_iter = \"DF_ITERATIONS.csv\"\n",
    "\n",
    "\n",
    "# Dataframe que contendrá los datos de cada prueba de combinación\n",
    "columns_df_main: list = [\"algorithm\",\"time\",\"num_iter\",\"value_grad\",\"data_index\"]\n",
    "\n",
    "df_main = pd.DataFrame(columns=columns_df_main)\n",
    "df_main.to_csv(name_df_main)\n",
    "\n",
    "# Dataframe que contendrá los datos de cada prueba de combinación\n",
    "columns_df_main: list = [\"algorithm\",\"time\",\"num_iter\",\"value_grad\",\"data_index\"]\n",
    "\n",
    "df_main = pd.DataFrame(columns=columns_df_main)\n",
    "df_main.to_csv(name_df_main)\n",
    "\n",
    "\n",
    "# Todas las comparaciones entre las clases\n",
    "comb_num = []\n",
    "for x in range(9):\n",
    "    for y in range(9):\n",
    "        if x!=y:\n",
    "            comb_num.append((x,y))   \n",
    "\n",
    "df_comb = pd.DataFrame(comb_num, columns=[\"number_1\",\"number_2\"], dtype=np.int8)\n",
    "df_comb.to_csv(name_df_comb)"
   ],
   "metadata": {
    "collapsed": false,
    "ExecuteTime": {
     "end_time": "2024-01-15T19:58:55.242302Z",
     "start_time": "2024-01-15T19:58:55.213976400Z"
    }
   },
   "execution_count": 77
  },
  {
   "cell_type": "code",
   "outputs": [],
   "source": [
    "\n",
    "\n",
    "\n",
    "# Escogemos los valores con que queremos entrenar nuestra función\n",
    "n0: int = 0\n",
    "n1: int = 1\n",
    "\n",
    "# Filtramos el dataset de entrenamiento y de testeo para obtener los datos que tengan las etiquetas n0 y n1\n",
    "x_train: np.ndarray = df_trainX[(df_trainY == n0) | (df_trainY == n1)]\n",
    "y_train: np.ndarray = df_trainY[(df_trainY == n0) | (df_trainY == n1)]\n",
    "x_test: np.ndarray = df_testX[(df_testY == n0) | (df_testY == n1)]\n",
    "y_test: np.ndarray = df_testY[(df_testY == n0) | (df_testY == n1)]\n",
    "\n",
    "# Cambiamos las etiquetas del conjunto de las clases (y)\n",
    "# no → 1 y n1 → -1\n",
    "y_train = np.where(y_train == n0, 1, -1)\n",
    "y_test = np.where(y_test == n0, 1, -1)\n",
    "\n",
    "# Aplicamos algún tipo de perturbación a los datos de entrenamiento (x)\n",
    "fun_per: callable = lambda x: x + 1 # Decidimos la función de perturbation\n",
    "v_fun_per = np.vectorize(fun_per) # Vectorizamos la función para ejecutarla en todo el array\n",
    "\n",
    "x_train = v_fun_per(x_train)\n",
    "x_test = v_fun_per(x_test)\n",
    "\n",
    "# Ya listo el dataset y las clases, se procede a encontrar los hiperparámetros de que minimizan el error\n",
    "# entre una función y las clases. Para esto podemos usar descenso del gradiente u otro método.\n",
    "\n",
    "#Tomamos el tiempo de inicio\n",
    "t_ini = perf_counter_ns()\n",
    "W_opt, num_iter, value_grad = descenso_gradiente()\n",
    "t_fin = perf_counter_ns() - t_ini\n",
    "\n",
    "\n",
    "\n",
    "\n",
    "\n"
   ],
   "metadata": {
    "collapsed": false,
    "ExecuteTime": {
     "end_time": "2024-01-15T18:37:47.250573500Z",
     "start_time": "2024-01-15T18:37:44.142101Z"
    }
   },
   "execution_count": 29
  },
  {
   "cell_type": "code",
   "outputs": [],
   "source": [
    "x_train[0] "
   ],
   "metadata": {
    "collapsed": false
   },
   "execution_count": null
  }
 ],
 "metadata": {
  "kernelspec": {
   "display_name": "Python 3.11.1 ('.venv': venv)",
   "language": "python",
   "name": "python3"
  },
  "language_info": {
   "name": "python",
   "version": "3.11.1"
  },
  "orig_nbformat": 4,
  "vscode": {
   "interpreter": {
    "hash": "2cf3f28c7a75e50c5c0ebcdf52430fdc4ff7d504b21f5c59b0c47c408c10bd3b"
   }
  }
 },
 "nbformat": 4,
 "nbformat_minor": 2
}
