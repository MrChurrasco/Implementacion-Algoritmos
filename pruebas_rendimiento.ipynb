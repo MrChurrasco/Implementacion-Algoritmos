{
 "cells": [
  {
   "cell_type": "markdown",
   "metadata": {},
   "source": []
  },
  {
   "cell_type": "markdown",
   "source": [
    "# Librerias"
   ],
   "metadata": {
    "collapsed": false
   }
  },
  {
   "cell_type": "code",
   "execution_count": 2,
   "outputs": [],
   "source": [
    "import numpy as np\n",
    "from torchvision.datasets import MNIST\n",
    "from descenso_gradiente import descenso_gradiente\n",
    "from time import perf_counter_ns\n",
    "import pandas as pd"
   ],
   "metadata": {
    "collapsed": false,
    "ExecuteTime": {
     "end_time": "2024-01-16T01:22:59.328965200Z",
     "start_time": "2024-01-16T01:22:56.466423700Z"
    }
   }
  },
  {
   "cell_type": "markdown",
   "source": [
    "# Obteniendo el dataset"
   ],
   "metadata": {
    "collapsed": false
   }
  },
  {
   "cell_type": "code",
   "outputs": [],
   "source": [
    "df_train: list = list(zip(*MNIST(root=\"\",\n",
    "                                 train=True,\n",
    "                                 download=True,\n",
    "                                 transform=lambda t: np.asarray(t, dtype=np.float32))))\n",
    "\n",
    "df_test: list = list(zip(*MNIST(root=\"\",\n",
    "                                train=False,\n",
    "                                download=True,\n",
    "                                transform=lambda t: np.asarray(t, dtype=np.float32))))\n"
   ],
   "metadata": {
    "collapsed": false,
    "ExecuteTime": {
     "end_time": "2024-01-16T01:23:00.198390700Z",
     "start_time": "2024-01-16T01:22:59.329961600Z"
    }
   },
   "execution_count": 3
  },
  {
   "cell_type": "code",
   "outputs": [],
   "source": [
    "# Separamos las imagenes (x) de los labels (y)\n",
    "df_trainX: np.ndarray = np.asarray(df_train[0])\n",
    "df_trainY: np.ndarray = np.asarray(df_train[1])\n",
    "\n",
    "df_testX: np.ndarray = np.asarray(df_test[0])\n",
    "df_testY: np.ndarray = np.asarray(df_test[1])"
   ],
   "metadata": {
    "collapsed": false,
    "ExecuteTime": {
     "end_time": "2024-01-16T01:23:00.252714200Z",
     "start_time": "2024-01-16T01:23:00.199387400Z"
    }
   },
   "execution_count": 4
  },
  {
   "cell_type": "code",
   "outputs": [
    {
     "data": {
      "text/plain": "[int, int]"
     },
     "execution_count": 50,
     "metadata": {},
     "output_type": "execute_result"
    }
   ],
   "source": [
    "list(map(type,[1,2]))"
   ],
   "metadata": {
    "collapsed": false,
    "ExecuteTime": {
     "end_time": "2024-01-16T04:11:48.997405900Z",
     "start_time": "2024-01-16T04:11:48.991535100Z"
    }
   },
   "execution_count": 50
  },
  {
   "cell_type": "markdown",
   "source": [
    "# Función de Entrenamiento"
   ],
   "metadata": {
    "collapsed": false
   }
  },
  {
   "cell_type": "code",
   "outputs": [],
   "source": [
    "function_train: dict[str,callable] = {\"step\": descenso_gradiente}"
   ],
   "metadata": {
    "collapsed": false,
    "ExecuteTime": {
     "end_time": "2024-01-16T01:23:00.255704Z",
     "start_time": "2024-01-16T01:23:00.253710700Z"
    }
   },
   "execution_count": 5
  },
  {
   "cell_type": "code",
   "outputs": [],
   "source": [
    "def funcion_objetivo():\n",
    "    pass"
   ],
   "metadata": {
    "collapsed": false,
    "ExecuteTime": {
     "end_time": "2024-01-16T01:23:00.258339Z",
     "start_time": "2024-01-16T01:23:00.256838700Z"
    }
   },
   "execution_count": 6
  },
  {
   "cell_type": "markdown",
   "source": [
    "# Main"
   ],
   "metadata": {
    "collapsed": false
   }
  },
  {
   "cell_type": "code",
   "outputs": [],
   "source": [
    "def initial_clean_df(list_comb_num: list[tuple[int,int]]) -> None:\n",
    "    name_df_main = \"DF_ALGORITHMS.csv\"\n",
    "    name_df_comb = \"DF_DATA_COMBINATION.csv\"\n",
    "    name_df_iter = \"DF_ITERATIONS.csv\"\n",
    "    \n",
    "    global df_main\n",
    "    global df_comb\n",
    "    global df_iter\n",
    "\n",
    "    # Dataframe que contendrá los datos de cada prueba de combinación\n",
    "    columns_df_main: list = [\"algorithm\",\"time\",\"num_iter\",\"value_grad\",\"data_index\"]\n",
    "\n",
    "    df_main = pd.DataFrame(columns=columns_df_main)\n",
    "    df_main.to_csv(name_df_main)\n",
    "\n",
    "    # Dataframe que contendrá los datos de cada iteración\n",
    "    columns_df_iter: list = [\"main_index\",\"time_iter\",\"value_grad_iter\",\"const_iter\"]\n",
    "\n",
    "    df_main = pd.DataFrame(columns=columns_df_iter)\n",
    "    df_main.to_csv(name_df_iter)\n",
    "\n",
    "    \n",
    "    df_comb = pd.DataFrame(list_comb_num, columns=[\"number_1\",\"number_2\"], dtype=np.int8)\n",
    "    df_comb.to_csv(name_df_comb)"
   ],
   "metadata": {
    "collapsed": false,
    "ExecuteTime": {
     "end_time": "2024-01-15T23:42:44.261146100Z",
     "start_time": "2024-01-15T23:42:44.259157200Z"
    }
   },
   "execution_count": 20
  },
  {
   "cell_type": "code",
   "outputs": [],
   "source": [
    "# Todas las comparaciones entre las clases\n",
    "comb_num = []\n",
    "for x in range(9):\n",
    "    for y in range(9):\n",
    "        if x!=y:\n",
    "            comb_num.append((x,y))   \n",
    "            \n",
    "initial_clean_df(comb_num)"
   ],
   "metadata": {
    "collapsed": false,
    "ExecuteTime": {
     "end_time": "2024-01-15T23:43:09.300229100Z",
     "start_time": "2024-01-15T23:43:09.295243Z"
    }
   },
   "execution_count": 22
  },
  {
   "cell_type": "code",
   "outputs": [
    {
     "ename": "SyntaxError",
     "evalue": "invalid decimal literal (3124438653.py, line 1)",
     "output_type": "error",
     "traceback": [
      "\u001B[1;36m  Cell \u001B[1;32mIn[41], line 1\u001B[1;36m\u001B[0m\n\u001B[1;33m    1.__build_class__\u001B[0m\n\u001B[1;37m     ^\u001B[0m\n\u001B[1;31mSyntaxError\u001B[0m\u001B[1;31m:\u001B[0m invalid decimal literal\n"
     ]
    }
   ],
   "source": [],
   "metadata": {
    "collapsed": false,
    "ExecuteTime": {
     "end_time": "2024-01-16T04:08:21.433963400Z",
     "start_time": "2024-01-16T04:08:21.429637100Z"
    }
   },
   "execution_count": 41
  },
  {
   "cell_type": "code",
   "outputs": [
    {
     "name": "stderr",
     "output_type": "stream",
     "text": [
      "<>:1: SyntaxWarning: 'float' object is not callable; perhaps you missed a comma?\n",
      "<>:1: SyntaxWarning: 'float' object is not callable; perhaps you missed a comma?\n",
      "C:\\Users\\Sebastian\\AppData\\Local\\Temp\\ipykernel_14952\\314665044.py:1: SyntaxWarning: 'float' object is not callable; perhaps you missed a comma?\n",
      "  1.(_type_) is int\n"
     ]
    },
    {
     "ename": "NameError",
     "evalue": "name '_type_' is not defined",
     "output_type": "error",
     "traceback": [
      "\u001B[1;31m---------------------------------------------------------------------------\u001B[0m",
      "\u001B[1;31mNameError\u001B[0m                                 Traceback (most recent call last)",
      "Cell \u001B[1;32mIn[37], line 1\u001B[0m\n\u001B[1;32m----> 1\u001B[0m \u001B[38;5;241m1.\u001B[39m(\u001B[43m_type_\u001B[49m) \u001B[38;5;129;01mis\u001B[39;00m \u001B[38;5;28mint\u001B[39m\n",
      "\u001B[1;31mNameError\u001B[0m: name '_type_' is not defined"
     ]
    }
   ],
   "source": [
    "1.(_type_) is int"
   ],
   "metadata": {
    "collapsed": false,
    "ExecuteTime": {
     "end_time": "2024-01-16T04:07:46.891386500Z",
     "start_time": "2024-01-16T04:07:46.876803800Z"
    }
   },
   "execution_count": 37
  },
  {
   "cell_type": "code",
   "outputs": [
    {
     "data": {
      "text/plain": "{1, 2, 11, 12}"
     },
     "execution_count": 63,
     "metadata": {},
     "output_type": "execute_result"
    }
   ],
   "source": [
    "a = [(1,2),(2,3), (11,22),(12,33),(12, 1)]\n",
    "s,b = zip(*a)\n",
    "set(s)"
   ],
   "metadata": {
    "collapsed": false,
    "ExecuteTime": {
     "end_time": "2024-01-16T06:49:07.462305400Z",
     "start_time": "2024-01-16T06:49:07.459301500Z"
    }
   },
   "execution_count": 63
  },
  {
   "cell_type": "code",
   "outputs": [
    {
     "ename": "TypeError",
     "evalue": "descenso_gradiente() missing 3 required positional arguments: 'fun', 'xk', and 'grad_fun'",
     "output_type": "error",
     "traceback": [
      "\u001B[1;31m---------------------------------------------------------------------------\u001B[0m",
      "\u001B[1;31mTypeError\u001B[0m                                 Traceback (most recent call last)",
      "Cell \u001B[1;32mIn[8], line 28\u001B[0m\n\u001B[0;32m     23\u001B[0m \u001B[38;5;66;03m# Ya listo el dataset y las clases, se procede a encontrar los hiperparámetros de que minimizan el error\u001B[39;00m\n\u001B[0;32m     24\u001B[0m \u001B[38;5;66;03m# entre una función y las clases. Para esto podemos usar descenso del gradiente u otro método.\u001B[39;00m\n\u001B[0;32m     25\u001B[0m \n\u001B[0;32m     26\u001B[0m \u001B[38;5;66;03m#Tomamos el tiempo de inicio\u001B[39;00m\n\u001B[0;32m     27\u001B[0m t_ini \u001B[38;5;241m=\u001B[39m perf_counter_ns()\n\u001B[1;32m---> 28\u001B[0m W_opt, num_iter, value_grad \u001B[38;5;241m=\u001B[39m \u001B[43mdescenso_gradiente\u001B[49m\u001B[43m(\u001B[49m\u001B[43m)\u001B[49m\n\u001B[0;32m     29\u001B[0m t_fin \u001B[38;5;241m=\u001B[39m perf_counter_ns() \u001B[38;5;241m-\u001B[39m t_ini\n",
      "\u001B[1;31mTypeError\u001B[0m: descenso_gradiente() missing 3 required positional arguments: 'fun', 'xk', and 'grad_fun'"
     ]
    }
   ],
   "source": [
    "# Escogemos los valores con que queremos entrenar nuestra función\n",
    "n0: int = 0\n",
    "n1: int = 1\n",
    "\n",
    "# Filtramos el dataset de entrenamiento y de testeo para obtener los datos que tengan las etiquetas n0 y n1\n",
    "x_train: np.ndarray = df_trainX[(df_trainY == n0) | (df_trainY == n1)]\n",
    "y_train: np.ndarray = df_trainY[(df_trainY == n0) | (df_trainY == n1)]\n",
    "x_test: np.ndarray = df_testX[(df_testY == n0) | (df_testY == n1)]\n",
    "y_test: np.ndarray = df_testY[(df_testY == n0) | (df_testY == n1)]\n",
    "\n",
    "# Cambiamos las etiquetas del conjunto de las clases (y)\n",
    "# no → 1 y n1 → -1\n",
    "y_train = np.where(y_train == n0, 1, -1)\n",
    "y_test = np.where(y_test == n0, 1, -1)\n",
    "\n",
    "# Aplicamos algún tipo de perturbación a los datos de entrenamiento (x)\n",
    "fun_per: callable = lambda t: t + 1 # Decidimos la función de perturbation\n",
    "v_fun_per = np.vectorize(fun_per) # Vectorizamos la función para ejecutarla en todo el array\n",
    "\n",
    "x_train = v_fun_per(x_train)\n",
    "x_test = v_fun_per(x_test)\n",
    "\n",
    "# Ya listo el dataset y las clases, se procede a encontrar los hiperparámetros de que minimizan el error\n",
    "# entre una función y las clases. Para esto podemos usar descenso del gradiente u otro método.\n",
    "\n",
    "#Tomamos el tiempo de inicio\n",
    "t_ini = perf_counter_ns()\n",
    "W_opt, num_iter, value_grad = descenso_gradiente()\n",
    "t_fin = perf_counter_ns() - t_ini\n",
    "\n",
    "\n",
    "\n",
    "\n",
    "\n",
    "\n",
    "\n",
    "\n"
   ],
   "metadata": {
    "collapsed": false,
    "ExecuteTime": {
     "end_time": "2024-01-16T01:23:01.057947500Z",
     "start_time": "2024-01-16T01:23:00.269584100Z"
    }
   },
   "execution_count": 8
  },
  {
   "cell_type": "code",
   "outputs": [
    {
     "data": {
      "text/plain": "    Unnamed: 0  number_1  number_2\n0            0         0         1\n1            1         0         2\n2            2         0         3\n3            3         0         4\n4            4         0         5\n..         ...       ...       ...\n67          67         8         3\n68          68         8         4\n69          69         8         5\n70          70         8         6\n71          71         8         7\n\n[72 rows x 3 columns]",
      "text/html": "<div>\n<style scoped>\n    .dataframe tbody tr th:only-of-type {\n        vertical-align: middle;\n    }\n\n    .dataframe tbody tr th {\n        vertical-align: top;\n    }\n\n    .dataframe thead th {\n        text-align: right;\n    }\n</style>\n<table border=\"1\" class=\"dataframe\">\n  <thead>\n    <tr style=\"text-align: right;\">\n      <th></th>\n      <th>Unnamed: 0</th>\n      <th>number_1</th>\n      <th>number_2</th>\n    </tr>\n  </thead>\n  <tbody>\n    <tr>\n      <th>0</th>\n      <td>0</td>\n      <td>0</td>\n      <td>1</td>\n    </tr>\n    <tr>\n      <th>1</th>\n      <td>1</td>\n      <td>0</td>\n      <td>2</td>\n    </tr>\n    <tr>\n      <th>2</th>\n      <td>2</td>\n      <td>0</td>\n      <td>3</td>\n    </tr>\n    <tr>\n      <th>3</th>\n      <td>3</td>\n      <td>0</td>\n      <td>4</td>\n    </tr>\n    <tr>\n      <th>4</th>\n      <td>4</td>\n      <td>0</td>\n      <td>5</td>\n    </tr>\n    <tr>\n      <th>...</th>\n      <td>...</td>\n      <td>...</td>\n      <td>...</td>\n    </tr>\n    <tr>\n      <th>67</th>\n      <td>67</td>\n      <td>8</td>\n      <td>3</td>\n    </tr>\n    <tr>\n      <th>68</th>\n      <td>68</td>\n      <td>8</td>\n      <td>4</td>\n    </tr>\n    <tr>\n      <th>69</th>\n      <td>69</td>\n      <td>8</td>\n      <td>5</td>\n    </tr>\n    <tr>\n      <th>70</th>\n      <td>70</td>\n      <td>8</td>\n      <td>6</td>\n    </tr>\n    <tr>\n      <th>71</th>\n      <td>71</td>\n      <td>8</td>\n      <td>7</td>\n    </tr>\n  </tbody>\n</table>\n<p>72 rows × 3 columns</p>\n</div>"
     },
     "execution_count": 30,
     "metadata": {},
     "output_type": "execute_result"
    }
   ],
   "source": [
    "pd.read_csv(\"DF_DATA_COMBINATION.csv\", index_col=\"Unnamed: 0\")"
   ],
   "metadata": {
    "collapsed": false,
    "ExecuteTime": {
     "end_time": "2024-01-16T03:38:26.355217400Z",
     "start_time": "2024-01-16T03:38:26.347139900Z"
    }
   },
   "execution_count": 30
  },
  {
   "cell_type": "code",
   "outputs": [],
   "source": [
    "x_train"
   ],
   "metadata": {
    "collapsed": false,
    "ExecuteTime": {
     "end_time": "2024-01-16T01:23:01.058944200Z",
     "start_time": "2024-01-16T01:23:01.058944200Z"
    }
   },
   "execution_count": null
  }
 ],
 "metadata": {
  "kernelspec": {
   "display_name": "Python 3.11.1 ('.venv': venv)",
   "language": "python",
   "name": "python3"
  },
  "language_info": {
   "name": "python",
   "version": "3.11.1"
  },
  "orig_nbformat": 4,
  "vscode": {
   "interpreter": {
    "hash": "2cf3f28c7a75e50c5c0ebcdf52430fdc4ff7d504b21f5c59b0c47c408c10bd3b"
   }
  }
 },
 "nbformat": 4,
 "nbformat_minor": 2
}
