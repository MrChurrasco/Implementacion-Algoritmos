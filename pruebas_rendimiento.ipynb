{
 "cells": [
  {
   "cell_type": "markdown",
   "source": [
    "# Librerias"
   ],
   "metadata": {
    "collapsed": false
   }
  },
  {
   "cell_type": "code",
   "outputs": [],
   "source": [
    "import latexify\n",
    "from codecs import decode"
   ],
   "metadata": {
    "collapsed": false,
    "ExecuteTime": {
     "end_time": "2024-01-26T16:40:23.314097700Z",
     "start_time": "2024-01-26T16:40:23.242404700Z"
    }
   },
   "execution_count": 1
  },
  {
   "cell_type": "code",
   "outputs": [],
   "source": [
    "from Experimentos.descenso_gradiente_experiment import GradientDescent\n",
    "from API_Experiments.api import Algorithm\n"
   ],
   "metadata": {
    "collapsed": false,
    "ExecuteTime": {
     "end_time": "2024-01-30T19:23:37.392163Z",
     "start_time": "2024-01-30T19:23:36.979624400Z"
    }
   },
   "execution_count": 1
  },
  {
   "cell_type": "code",
   "outputs": [
    {
     "data": {
      "text/plain": "True"
     },
     "execution_count": 5,
     "metadata": {},
     "output_type": "execute_result"
    }
   ],
   "source": [
    "o = GradientDescent()\n",
    "issubclass(type(o), Algorithm)"
   ],
   "metadata": {
    "collapsed": false,
    "ExecuteTime": {
     "end_time": "2024-01-30T19:26:29.403926100Z",
     "start_time": "2024-01-30T19:26:29.395216800Z"
    }
   },
   "execution_count": 5
  },
  {
   "cell_type": "code",
   "execution_count": 20,
   "outputs": [],
   "source": [
    "import numpy as np\n",
    "from torchvision.datasets import MNIST\n",
    "from time import perf_counter_ns\n",
    "import pandas as pd\n",
    "from numba import njit"
   ],
   "metadata": {
    "collapsed": false,
    "ExecuteTime": {
     "end_time": "2024-01-31T19:37:06.381211200Z",
     "start_time": "2024-01-31T19:37:06.329884300Z"
    }
   }
  },
  {
   "cell_type": "code",
   "outputs": [],
   "source": [
    "df_train: list = list(zip(*MNIST(root=\"\",\n",
    "                                     train=True,\n",
    "                                     download=True,\n",
    "                                     transform=lambda t: 1 + np.asarray(t, dtype=np.float32))))\n",
    "\n",
    "df_test: list = list(zip(*MNIST(root=\"\",\n",
    "                                    train=False,\n",
    "                                    download=True,\n",
    "                                    transform=lambda t: np.asarray(t, dtype=np.float32))))\n",
    "\n",
    "# Separamos las imagenes (x) de los labels (y)\n",
    "df_trainX: np.ndarray = np.asarray(df_train[0])\n",
    "df_trainY: np.ndarray = np.asarray(df_train[1])\n",
    "\n",
    "df_testX: np.ndarray = np.asarray(df_test[0])\n",
    "df_testY: np.ndarray = np.asarray(df_test[1])"
   ],
   "metadata": {
    "collapsed": false,
    "ExecuteTime": {
     "end_time": "2024-01-31T19:43:13.794643400Z",
     "start_time": "2024-01-31T19:43:04.459169300Z"
    }
   },
   "execution_count": 29
  },
  {
   "cell_type": "code",
   "outputs": [
    {
     "data": {
      "text/plain": "5"
     },
     "execution_count": 32,
     "metadata": {},
     "output_type": "execute_result"
    }
   ],
   "source": [
    "df_trainY[0]"
   ],
   "metadata": {
    "collapsed": false,
    "ExecuteTime": {
     "end_time": "2024-01-31T19:43:43.280468200Z",
     "start_time": "2024-01-31T19:43:43.245225500Z"
    }
   },
   "execution_count": 32
  },
  {
   "cell_type": "code",
   "outputs": [],
   "source": [
    "df_testX = df_testX.reshape((10000, 28**2))"
   ],
   "metadata": {
    "collapsed": false,
    "ExecuteTime": {
     "end_time": "2024-01-31T19:51:13.578574300Z",
     "start_time": "2024-01-31T19:51:13.459079700Z"
    }
   },
   "execution_count": 37
  },
  {
   "cell_type": "code",
   "outputs": [],
   "source": [
    "df_testY = df_testY.reshape(-1,1)"
   ],
   "metadata": {
    "collapsed": false,
    "ExecuteTime": {
     "end_time": "2024-01-31T21:55:19.513138200Z",
     "start_time": "2024-01-31T21:55:19.488135200Z"
    }
   },
   "execution_count": 88
  },
  {
   "cell_type": "code",
   "outputs": [
    {
     "data": {
      "text/plain": "(10000, 1)"
     },
     "execution_count": 89,
     "metadata": {},
     "output_type": "execute_result"
    }
   ],
   "source": [
    "df_testY.shape"
   ],
   "metadata": {
    "collapsed": false,
    "ExecuteTime": {
     "end_time": "2024-01-31T21:55:22.877154200Z",
     "start_time": "2024-01-31T21:55:22.818635700Z"
    }
   },
   "execution_count": 89
  },
  {
   "cell_type": "code",
   "outputs": [],
   "source": [
    "a = df_testY * df_testX"
   ],
   "metadata": {
    "collapsed": false,
    "ExecuteTime": {
     "end_time": "2024-01-31T21:56:14.078304800Z",
     "start_time": "2024-01-31T21:56:14.016603800Z"
    }
   },
   "execution_count": 98
  },
  {
   "cell_type": "code",
   "outputs": [
    {
     "data": {
      "text/plain": "(10000, 784)"
     },
     "execution_count": 99,
     "metadata": {},
     "output_type": "execute_result"
    }
   ],
   "source": [
    "a.shape"
   ],
   "metadata": {
    "collapsed": false,
    "ExecuteTime": {
     "end_time": "2024-01-31T21:56:15.083428100Z",
     "start_time": "2024-01-31T21:56:15.024436100Z"
    }
   },
   "execution_count": 99
  },
  {
   "cell_type": "code",
   "outputs": [],
   "source": [],
   "metadata": {
    "collapsed": false
   }
  },
  {
   "cell_type": "code",
   "outputs": [],
   "source": [
    "b = np.array([df_testY[i] * df_testX[i] for i in range(df_testY.shape[0])])"
   ],
   "metadata": {
    "collapsed": false,
    "ExecuteTime": {
     "end_time": "2024-01-31T21:56:27.173343500Z",
     "start_time": "2024-01-31T21:56:26.955271800Z"
    }
   },
   "execution_count": 100
  },
  {
   "cell_type": "markdown",
   "source": [],
   "metadata": {
    "collapsed": false
   }
  },
  {
   "cell_type": "code",
   "outputs": [
    {
     "data": {
      "text/plain": "True"
     },
     "execution_count": 101,
     "metadata": {},
     "output_type": "execute_result"
    }
   ],
   "source": [
    "np.array_equal(b,a)"
   ],
   "metadata": {
    "collapsed": false,
    "ExecuteTime": {
     "end_time": "2024-01-31T21:56:28.015540200Z",
     "start_time": "2024-01-31T21:56:27.948325100Z"
    }
   },
   "execution_count": 101
  },
  {
   "cell_type": "code",
   "outputs": [],
   "source": [
    "c = np.apply_along_axis(lambda ci: np.inner(ci, np.ones(784)),1, a )"
   ],
   "metadata": {
    "collapsed": false,
    "ExecuteTime": {
     "end_time": "2024-01-31T21:59:55.802873600Z",
     "start_time": "2024-01-31T21:59:55.631341400Z"
    }
   },
   "execution_count": 103
  },
  {
   "cell_type": "code",
   "outputs": [],
   "source": [
    "d = a@np.ones(784)"
   ],
   "metadata": {
    "collapsed": false,
    "ExecuteTime": {
     "end_time": "2024-01-31T21:59:57.418426400Z",
     "start_time": "2024-01-31T21:59:57.370521500Z"
    }
   },
   "execution_count": 104
  },
  {
   "cell_type": "code",
   "outputs": [
    {
     "data": {
      "text/plain": "True"
     },
     "execution_count": 105,
     "metadata": {},
     "output_type": "execute_result"
    }
   ],
   "source": [
    "np.array_equal(c,d)"
   ],
   "metadata": {
    "collapsed": false,
    "ExecuteTime": {
     "end_time": "2024-01-31T22:00:07.215280200Z",
     "start_time": "2024-01-31T22:00:07.150756100Z"
    }
   },
   "execution_count": 105
  },
  {
   "cell_type": "code",
   "outputs": [],
   "source": [
    "@njit\n",
    "def square_loss(t: float) -> float:\n",
    "    \"\"\"\n",
    "    Calcula el error cuadrático de la funcion f con respecto al valor de y.\n",
    "\n",
    "    Args:\n",
    "        t: \n",
    "    Returns: El error cuadrático de la función f con el valor y.\n",
    "\n",
    "    \"\"\"\n",
    "    return (1 - t)**2\n"
   ],
   "metadata": {
    "collapsed": false,
    "ExecuteTime": {
     "end_time": "2024-01-26T07:16:15.859981200Z",
     "start_time": "2024-01-26T07:16:15.850970100Z"
    }
   },
   "execution_count": 70
  },
  {
   "cell_type": "code",
   "outputs": [],
   "source": [
    "def hola(x: float) -> float:\n",
    "    return (-1) ** x"
   ],
   "metadata": {
    "collapsed": false,
    "ExecuteTime": {
     "end_time": "2024-01-26T16:53:05.828903600Z",
     "start_time": "2024-01-26T16:53:05.797776800Z"
    }
   },
   "execution_count": 26
  },
  {
   "cell_type": "code",
   "outputs": [],
   "source": [
    "import funciones_costo as fc"
   ],
   "metadata": {
    "collapsed": false,
    "ExecuteTime": {
     "end_time": "2024-01-26T16:40:35.517991600Z",
     "start_time": "2024-01-26T16:40:31.441975300Z"
    }
   },
   "execution_count": 3
  },
  {
   "cell_type": "code",
   "outputs": [],
   "source": [
    "latexify.algorithmic"
   ],
   "metadata": {
    "collapsed": false
   }
  },
  {
   "cell_type": "code",
   "outputs": [
    {
     "data": {
      "text/plain": "1"
     },
     "execution_count": 24,
     "metadata": {},
     "output_type": "execute_result"
    }
   ],
   "source": [
    "hola(4)"
   ],
   "metadata": {
    "collapsed": false,
    "ExecuteTime": {
     "end_time": "2024-01-26T16:44:08.750523600Z",
     "start_time": "2024-01-26T16:44:08.739563900Z"
    }
   },
   "execution_count": 24
  },
  {
   "cell_type": "code",
   "outputs": [
    {
     "data": {
      "text/plain": "<function __main__.<lambda>(t)>"
     },
     "execution_count": 27,
     "metadata": {},
     "output_type": "execute_result"
    }
   ],
   "source": [
    "lambda t: t + 1"
   ],
   "metadata": {
    "collapsed": false,
    "ExecuteTime": {
     "end_time": "2024-01-29T07:30:51.886114500Z",
     "start_time": "2024-01-29T07:30:51.832601100Z"
    }
   },
   "execution_count": 27
  },
  {
   "cell_type": "code",
   "outputs": [
    {
     "data": {
      "text/plain": "2"
     },
     "execution_count": 19,
     "metadata": {},
     "output_type": "execute_result"
    }
   ],
   "source": [
    "np.array([0, 1]).shape[0]"
   ],
   "metadata": {
    "collapsed": false,
    "ExecuteTime": {
     "end_time": "2024-01-31T06:38:17.588263900Z",
     "start_time": "2024-01-31T06:38:17.416410700Z"
    }
   },
   "execution_count": 19
  },
  {
   "cell_type": "code",
   "outputs": [
    {
     "data": {
      "text/plain": "<latexify.ipython_wrappers.LatexifiedAlgorithm at 0x265331342d0>",
      "text/latex": "$ \\begin{array}{l} \\mathbf{function} \\ \\mathrm{hola}(x) \\\\ \\hspace{1em} \\mathbf{return} \\ \\mathopen{}\\left( -1 \\mathclose{}\\right)^{x} \\\\ \\mathbf{end \\ function} \\end{array} $"
     },
     "execution_count": 25,
     "metadata": {},
     "output_type": "execute_result"
    }
   ],
   "source": [
    "latexify.algorithmic(hola, use_math_symbols=True)"
   ],
   "metadata": {
    "collapsed": false,
    "ExecuteTime": {
     "end_time": "2024-01-26T16:44:12.402940400Z",
     "start_time": "2024-01-26T16:44:12.360531300Z"
    }
   },
   "execution_count": 25
  },
  {
   "cell_type": "code",
   "outputs": [
    {
     "data": {
      "text/plain": "True"
     },
     "execution_count": 27,
     "metadata": {},
     "output_type": "execute_result"
    }
   ],
   "source": [
    "from API_Experiments.api import Algorithm\n",
    "\n",
    "class HOLA(Algorithm):\n",
    "    def __init__(self):\n",
    "        super().__init__()\n",
    "\n",
    "aux = HOLA()\n",
    "aux.__class__.__base__ is Algorithm"
   ],
   "metadata": {
    "collapsed": false,
    "ExecuteTime": {
     "end_time": "2024-01-30T06:30:35.181621200Z",
     "start_time": "2024-01-30T06:30:35.132092600Z"
    }
   },
   "execution_count": 27
  },
  {
   "cell_type": "code",
   "outputs": [
    {
     "data": {
      "text/plain": "True"
     },
     "execution_count": 6,
     "metadata": {},
     "output_type": "execute_result"
    }
   ],
   "source": [
    "a = lambda x: x\n",
    "callable(a)"
   ],
   "metadata": {
    "collapsed": false,
    "ExecuteTime": {
     "end_time": "2024-01-30T20:45:34.716817300Z",
     "start_time": "2024-01-30T20:45:34.670818Z"
    }
   },
   "execution_count": 6
  },
  {
   "cell_type": "markdown",
   "source": [],
   "metadata": {
    "collapsed": false
   }
  },
  {
   "cell_type": "code",
   "outputs": [
    {
     "data": {
      "text/plain": "1.9599999999999997"
     },
     "execution_count": 3,
     "metadata": {},
     "output_type": "execute_result"
    }
   ],
   "source": [
    "square_loss(2.4)"
   ],
   "metadata": {
    "collapsed": false,
    "ExecuteTime": {
     "end_time": "2024-01-19T17:56:36.908903700Z",
     "start_time": "2024-01-19T17:56:33.476525800Z"
    }
   },
   "execution_count": 3
  },
  {
   "cell_type": "markdown",
   "source": [
    "# Obteniendo el dataset"
   ],
   "metadata": {
    "collapsed": false
   }
  },
  {
   "cell_type": "code",
   "outputs": [],
   "source": [
    "df_train: list = list(zip(*MNIST(root=\"\",\n",
    "                                 train=True,\n",
    "                                 download=True,\n",
    "                                 transform=lambda t: np.asarray(t, dtype=np.float32))))\n",
    "\n",
    "df_test: list = list(zip(*MNIST(root=\"\",\n",
    "                                train=False,\n",
    "                                download=True,\n",
    "                                transform=lambda t: np.asarray(t, dtype=np.float32))))\n"
   ],
   "metadata": {
    "collapsed": false,
    "ExecuteTime": {
     "end_time": "2024-01-16T15:07:04.928270500Z",
     "start_time": "2024-01-16T15:07:03.879472100Z"
    }
   },
   "execution_count": 6
  },
  {
   "cell_type": "code",
   "outputs": [],
   "source": [
    "# Separamos las imagenes (x) de los labels (y)\n",
    "df_trainX: np.ndarray = np.asarray(df_train[0])\n",
    "df_trainY: np.ndarray = np.asarray(df_train[1])\n",
    "\n",
    "df_testX: np.ndarray = np.asarray(df_test[0])\n",
    "df_testY: np.ndarray = np.asarray(df_test[1])"
   ],
   "metadata": {
    "collapsed": false,
    "ExecuteTime": {
     "end_time": "2024-01-16T15:07:04.974931800Z",
     "start_time": "2024-01-16T15:07:04.921297Z"
    }
   },
   "execution_count": 7
  },
  {
   "cell_type": "code",
   "outputs": [
    {
     "data": {
      "text/plain": "{0, 1, 2, 3, 4, 5, 6, 7, 8, 9}"
     },
     "execution_count": 16,
     "metadata": {},
     "output_type": "execute_result"
    }
   ],
   "source": [
    "set(df_testY.tolist())"
   ],
   "metadata": {
    "collapsed": false,
    "ExecuteTime": {
     "end_time": "2024-01-16T15:22:53.310194600Z",
     "start_time": "2024-01-16T15:22:53.305703800Z"
    }
   },
   "execution_count": 16
  },
  {
   "cell_type": "code",
   "outputs": [],
   "source": [],
   "metadata": {
    "collapsed": false
   }
  },
  {
   "cell_type": "markdown",
   "source": [
    "# Función de Entrenamiento"
   ],
   "metadata": {
    "collapsed": false
   }
  },
  {
   "cell_type": "code",
   "outputs": [],
   "source": [
    "function_train: dict[str,callable] = {\"step\": }"
   ],
   "metadata": {
    "collapsed": false,
    "ExecuteTime": {
     "end_time": "2024-01-16T01:23:00.255704Z",
     "start_time": "2024-01-16T01:23:00.253710700Z"
    }
   },
   "execution_count": 5
  },
  {
   "cell_type": "code",
   "outputs": [],
   "source": [
    "def funcion_objetivo():\n",
    "    pass"
   ],
   "metadata": {
    "collapsed": false,
    "ExecuteTime": {
     "end_time": "2024-01-16T01:23:00.258339Z",
     "start_time": "2024-01-16T01:23:00.256838700Z"
    }
   },
   "execution_count": 6
  },
  {
   "cell_type": "markdown",
   "source": [
    "# Main"
   ],
   "metadata": {
    "collapsed": false
   }
  },
  {
   "cell_type": "code",
   "outputs": [],
   "source": [
    "def initial_clean_df(list_comb_num: list[tuple[int,int]]) -> None:\n",
    "    name_df_main = \"DF_ALGORITHMS.csv\"\n",
    "    name_df_comb = \"DF_DATA_COMBINATION.csv\"\n",
    "    name_df_iter = \"DF_ITERATIONS.csv\"\n",
    "    \n",
    "    global df_main\n",
    "    global df_comb\n",
    "    global df_iter\n",
    "\n",
    "    # Dataframe que contendrá los datos de cada prueba de combinación\n",
    "    columns_df_main: list = [\"algorithm\",\"time\",\"num_iter\",\"value_grad\",\"data_index\"]\n",
    "\n",
    "    df_main = pd.DataFrame(columns=columns_df_main)\n",
    "    df_main.to_csv(name_df_main)\n",
    "\n",
    "    # Dataframe que contendrá los datos de cada iteración\n",
    "    columns_df_iter: list = [\"main_index\",\"time_iter\",\"value_grad_iter\",\"const_iter\"]\n",
    "\n",
    "    df_main = pd.DataFrame(columns=columns_df_iter)\n",
    "    df_main.to_csv(name_df_iter)\n",
    "\n",
    "    \n",
    "    df_comb = pd.DataFrame(list_comb_num, columns=[\"number_1\",\"number_2\"], dtype=np.int8)\n",
    "    df_comb.to_csv(name_df_comb)"
   ],
   "metadata": {
    "collapsed": false,
    "ExecuteTime": {
     "end_time": "2024-01-15T23:42:44.261146100Z",
     "start_time": "2024-01-15T23:42:44.259157200Z"
    }
   },
   "execution_count": 20
  },
  {
   "cell_type": "code",
   "outputs": [],
   "source": [
    "# Todas las comparaciones entre las clases\n",
    "comb_num = []\n",
    "for x in range(9):\n",
    "    for y in range(9):\n",
    "        if x!=y:\n",
    "            comb_num.append((x,y))   \n",
    "            \n",
    "initial_clean_df(comb_num)"
   ],
   "metadata": {
    "collapsed": false,
    "ExecuteTime": {
     "end_time": "2024-01-15T23:43:09.300229100Z",
     "start_time": "2024-01-15T23:43:09.295243Z"
    }
   },
   "execution_count": 22
  },
  {
   "cell_type": "code",
   "outputs": [
    {
     "ename": "SyntaxError",
     "evalue": "invalid decimal literal (3124438653.py, line 1)",
     "output_type": "error",
     "traceback": [
      "\u001B[1;36m  Cell \u001B[1;32mIn[41], line 1\u001B[1;36m\u001B[0m\n\u001B[1;33m    1.__build_class__\u001B[0m\n\u001B[1;37m     ^\u001B[0m\n\u001B[1;31mSyntaxError\u001B[0m\u001B[1;31m:\u001B[0m invalid decimal literal\n"
     ]
    }
   ],
   "source": [],
   "metadata": {
    "collapsed": false,
    "ExecuteTime": {
     "end_time": "2024-01-16T04:08:21.433963400Z",
     "start_time": "2024-01-16T04:08:21.429637100Z"
    }
   },
   "execution_count": 41
  },
  {
   "cell_type": "code",
   "outputs": [
    {
     "name": "stderr",
     "output_type": "stream",
     "text": [
      "<>:1: SyntaxWarning: 'float' object is not callable; perhaps you missed a comma?\n",
      "<>:1: SyntaxWarning: 'float' object is not callable; perhaps you missed a comma?\n",
      "C:\\Users\\Sebastian\\AppData\\Local\\Temp\\ipykernel_14952\\314665044.py:1: SyntaxWarning: 'float' object is not callable; perhaps you missed a comma?\n",
      "  1.(_type_) is int\n"
     ]
    },
    {
     "ename": "NameError",
     "evalue": "name '_type_' is not defined",
     "output_type": "error",
     "traceback": [
      "\u001B[1;31m---------------------------------------------------------------------------\u001B[0m",
      "\u001B[1;31mNameError\u001B[0m                                 Traceback (most recent call last)",
      "Cell \u001B[1;32mIn[37], line 1\u001B[0m\n\u001B[1;32m----> 1\u001B[0m \u001B[38;5;241m1.\u001B[39m(\u001B[43m_type_\u001B[49m) \u001B[38;5;129;01mis\u001B[39;00m \u001B[38;5;28mint\u001B[39m\n",
      "\u001B[1;31mNameError\u001B[0m: name '_type_' is not defined"
     ]
    }
   ],
   "source": [
    "1.(_type_) is int"
   ],
   "metadata": {
    "collapsed": false,
    "ExecuteTime": {
     "end_time": "2024-01-16T04:07:46.891386500Z",
     "start_time": "2024-01-16T04:07:46.876803800Z"
    }
   },
   "execution_count": 37
  },
  {
   "cell_type": "code",
   "outputs": [
    {
     "ename": "TypeError",
     "evalue": "unsupported operand type(s) for |: 'set' and 'list'",
     "output_type": "error",
     "traceback": [
      "\u001B[1;31m---------------------------------------------------------------------------\u001B[0m",
      "\u001B[1;31mTypeError\u001B[0m                                 Traceback (most recent call last)",
      "Cell \u001B[1;32mIn[4], line 3\u001B[0m\n\u001B[0;32m      1\u001B[0m a \u001B[38;5;241m=\u001B[39m [(\u001B[38;5;241m1\u001B[39m,\u001B[38;5;241m2\u001B[39m),(\u001B[38;5;241m2\u001B[39m,\u001B[38;5;241m3\u001B[39m), (\u001B[38;5;241m11\u001B[39m,\u001B[38;5;241m22\u001B[39m),(\u001B[38;5;241m12\u001B[39m,\u001B[38;5;241m33\u001B[39m),(\u001B[38;5;241m12\u001B[39m, \u001B[38;5;241m1\u001B[39m)]\n\u001B[0;32m      2\u001B[0m s,b \u001B[38;5;241m=\u001B[39m \u001B[38;5;28mzip\u001B[39m(\u001B[38;5;241m*\u001B[39ma)\n\u001B[1;32m----> 3\u001B[0m \u001B[38;5;28;43mset\u001B[39;49m\u001B[43m(\u001B[49m\u001B[43ms\u001B[49m\u001B[43m)\u001B[49m\u001B[43m \u001B[49m\u001B[38;5;241;43m|\u001B[39;49m\u001B[43m \u001B[49m\u001B[38;5;28;43mset\u001B[39;49m\u001B[43m(\u001B[49m\u001B[43mb\u001B[49m\u001B[43m)\u001B[49m\u001B[43m \u001B[49m\u001B[38;5;241;43m|\u001B[39;49m\u001B[43m \u001B[49m\u001B[43m[\u001B[49m\u001B[43m]\u001B[49m\n",
      "\u001B[1;31mTypeError\u001B[0m: unsupported operand type(s) for |: 'set' and 'list'"
     ]
    }
   ],
   "source": [
    "a = [(1,2),(2,3), (11,22),(12,33),(12, 1)]\n",
    "s,b = zip(*a)\n",
    "set(s) | set(b) |"
   ],
   "metadata": {
    "collapsed": false,
    "ExecuteTime": {
     "end_time": "2024-01-16T15:02:09.646374600Z",
     "start_time": "2024-01-16T15:02:09.632929400Z"
    }
   },
   "execution_count": 4
  },
  {
   "cell_type": "code",
   "outputs": [
    {
     "ename": "TypeError",
     "evalue": "descenso_gradiente() missing 3 required positional arguments: 'fun', 'xk', and 'grad_fun'",
     "output_type": "error",
     "traceback": [
      "\u001B[1;31m---------------------------------------------------------------------------\u001B[0m",
      "\u001B[1;31mTypeError\u001B[0m                                 Traceback (most recent call last)",
      "Cell \u001B[1;32mIn[8], line 28\u001B[0m\n\u001B[0;32m     23\u001B[0m \u001B[38;5;66;03m# Ya listo el dataset y las clases, se procede a encontrar los hiperparámetros de que minimizan el error\u001B[39;00m\n\u001B[0;32m     24\u001B[0m \u001B[38;5;66;03m# entre una función y las clases. Para esto podemos usar descenso del gradiente u otro método.\u001B[39;00m\n\u001B[0;32m     25\u001B[0m \n\u001B[0;32m     26\u001B[0m \u001B[38;5;66;03m#Tomamos el tiempo de inicio\u001B[39;00m\n\u001B[0;32m     27\u001B[0m t_ini \u001B[38;5;241m=\u001B[39m perf_counter_ns()\n\u001B[1;32m---> 28\u001B[0m W_opt, num_iter, value_grad \u001B[38;5;241m=\u001B[39m \u001B[43mdescenso_gradiente\u001B[49m\u001B[43m(\u001B[49m\u001B[43m)\u001B[49m\n\u001B[0;32m     29\u001B[0m t_fin \u001B[38;5;241m=\u001B[39m perf_counter_ns() \u001B[38;5;241m-\u001B[39m t_ini\n",
      "\u001B[1;31mTypeError\u001B[0m: descenso_gradiente() missing 3 required positional arguments: 'fun', 'xk', and 'grad_fun'"
     ]
    }
   ],
   "source": [
    "# Escogemos los valores con que queremos entrenar nuestra función\n",
    "n0: int = 0\n",
    "n1: int = 1\n",
    "\n",
    "# Filtramos el dataset de entrenamiento y de testeo para obtener los datos que tengan las etiquetas n0 y n1\n",
    "x_train: np.ndarray = df_trainX[(df_trainY == n0) | (df_trainY == n1)]\n",
    "y_train: np.ndarray = df_trainY[(df_trainY == n0) | (df_trainY == n1)]\n",
    "x_test: np.ndarray = df_testX[(df_testY == n0) | (df_testY == n1)]\n",
    "y_test: np.ndarray = df_testY[(df_testY == n0) | (df_testY == n1)]\n",
    "\n",
    "# Cambiamos las etiquetas del conjunto de las clases (y)\n",
    "# no → 1 y n1 → -1\n",
    "y_train = np.where(y_train == n0, 1, -1)\n",
    "y_test = np.where(y_test == n0, 1, -1)\n",
    "\n",
    "# Aplicamos algún tipo de perturbación a los datos de entrenamiento (x)\n",
    "fun_per: callable = lambda t: t + 1 # Decidimos la función de perturbation\n",
    "v_fun_per = np.vectorize(fun_per) # Vectorizamos la función para ejecutarla en todo el array\n",
    "\n",
    "x_train = v_fun_per(x_train)\n",
    "x_test = v_fun_per(x_test)\n",
    "\n",
    "# Ya listo el dataset y las clases, se procede a encontrar los hiperparámetros de que minimizan el error\n",
    "# entre una función y las clases. Para esto podemos usar descenso del gradiente u otro método.\n",
    "\n",
    "#Tomamos el tiempo de inicio\n",
    "t_ini = perf_counter_ns()\n",
    "W_opt, num_iter, value_grad = ()\n",
    "t_fin = perf_counter_ns() - t_ini\n",
    "\n",
    "\n",
    "\n",
    "\n",
    "\n",
    "\n",
    "\n",
    "\n"
   ],
   "metadata": {
    "collapsed": false,
    "ExecuteTime": {
     "end_time": "2024-01-16T01:23:01.057947500Z",
     "start_time": "2024-01-16T01:23:00.269584100Z"
    }
   },
   "execution_count": 8
  },
  {
   "cell_type": "code",
   "outputs": [
    {
     "data": {
      "text/plain": "    Unnamed: 0  number_1  number_2\n0            0         0         1\n1            1         0         2\n2            2         0         3\n3            3         0         4\n4            4         0         5\n..         ...       ...       ...\n67          67         8         3\n68          68         8         4\n69          69         8         5\n70          70         8         6\n71          71         8         7\n\n[72 rows x 3 columns]",
      "text/html": "<div>\n<style scoped>\n    .dataframe tbody tr th:only-of-type {\n        vertical-align: middle;\n    }\n\n    .dataframe tbody tr th {\n        vertical-align: top;\n    }\n\n    .dataframe thead th {\n        text-align: right;\n    }\n</style>\n<table border=\"1\" class=\"dataframe\">\n  <thead>\n    <tr style=\"text-align: right;\">\n      <th></th>\n      <th>Unnamed: 0</th>\n      <th>number_1</th>\n      <th>number_2</th>\n    </tr>\n  </thead>\n  <tbody>\n    <tr>\n      <th>0</th>\n      <td>0</td>\n      <td>0</td>\n      <td>1</td>\n    </tr>\n    <tr>\n      <th>1</th>\n      <td>1</td>\n      <td>0</td>\n      <td>2</td>\n    </tr>\n    <tr>\n      <th>2</th>\n      <td>2</td>\n      <td>0</td>\n      <td>3</td>\n    </tr>\n    <tr>\n      <th>3</th>\n      <td>3</td>\n      <td>0</td>\n      <td>4</td>\n    </tr>\n    <tr>\n      <th>4</th>\n      <td>4</td>\n      <td>0</td>\n      <td>5</td>\n    </tr>\n    <tr>\n      <th>...</th>\n      <td>...</td>\n      <td>...</td>\n      <td>...</td>\n    </tr>\n    <tr>\n      <th>67</th>\n      <td>67</td>\n      <td>8</td>\n      <td>3</td>\n    </tr>\n    <tr>\n      <th>68</th>\n      <td>68</td>\n      <td>8</td>\n      <td>4</td>\n    </tr>\n    <tr>\n      <th>69</th>\n      <td>69</td>\n      <td>8</td>\n      <td>5</td>\n    </tr>\n    <tr>\n      <th>70</th>\n      <td>70</td>\n      <td>8</td>\n      <td>6</td>\n    </tr>\n    <tr>\n      <th>71</th>\n      <td>71</td>\n      <td>8</td>\n      <td>7</td>\n    </tr>\n  </tbody>\n</table>\n<p>72 rows × 3 columns</p>\n</div>"
     },
     "execution_count": 30,
     "metadata": {},
     "output_type": "execute_result"
    }
   ],
   "source": [
    "pd.read_csv(\"DF_DATA_COMBINATION.csv\", index_col=\"Unnamed: 0\")"
   ],
   "metadata": {
    "collapsed": false,
    "ExecuteTime": {
     "end_time": "2024-01-16T03:38:26.355217400Z",
     "start_time": "2024-01-16T03:38:26.347139900Z"
    }
   },
   "execution_count": 30
  },
  {
   "cell_type": "code",
   "outputs": [],
   "source": [
    "x_train"
   ],
   "metadata": {
    "collapsed": false,
    "ExecuteTime": {
     "end_time": "2024-01-16T01:23:01.058944200Z",
     "start_time": "2024-01-16T01:23:01.058944200Z"
    }
   },
   "execution_count": null
  }
 ],
 "metadata": {
  "kernelspec": {
   "display_name": "Python 3.11.1 ('.venv': venv)",
   "language": "python",
   "name": "python3"
  },
  "language_info": {
   "name": "python",
   "version": "3.11.1"
  },
  "orig_nbformat": 4,
  "vscode": {
   "interpreter": {
    "hash": "2cf3f28c7a75e50c5c0ebcdf52430fdc4ff7d504b21f5c59b0c47c408c10bd3b"
   }
  }
 },
 "nbformat": 4,
 "nbformat_minor": 2
}
